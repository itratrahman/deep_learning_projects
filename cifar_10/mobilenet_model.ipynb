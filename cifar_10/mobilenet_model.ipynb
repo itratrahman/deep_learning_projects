{
 "cells": [
  {
   "cell_type": "markdown",
   "metadata": {},
   "source": [
    "# CREATE AND TRAIN BASE RESNET MODEL (FROM SCRATCH)"
   ]
  },
  {
   "cell_type": "markdown",
   "metadata": {},
   "source": [
    "**Import statements**"
   ]
  },
  {
   "cell_type": "code",
   "execution_count": null,
   "metadata": {},
   "outputs": [],
   "source": [
    "import os\n",
    "import random\n",
    "import numpy as np\n",
    "from sklearn.metrics import confusion_matrix, accuracy_score\n",
    "from tensorflow.random import set_seed\n",
    "from tensorflow.keras import Sequential\n",
    "from tensorflow.keras.layers.experimental.preprocessing import Resizing\n",
    "from tensorflow.keras.applications import MobileNetV2\n",
    "from tensorflow.keras.backend import clear_session\n",
    "from tensorflow.keras.layers import Input, Conv2D, ELU, BatchNormalization,concatenate, \\\n",
    "                                    Add, GlobalAveragePooling2D, Flatten, Dense, MaxPooling2D\n",
    "from tensorflow.keras.losses import SparseCategoricalCrossentropy\n",
    "from tensorflow.keras.optimizers import Adam\n",
    "from tensorflow.keras.callbacks import ModelCheckpoint\n",
    "from tensorflow.keras.models import Model, load_model\n",
    "import matplotlib\n",
    "from matplotlib import pyplot as plt\n",
    "%matplotlib inline"
   ]
  },
  {
   "cell_type": "markdown",
   "metadata": {},
   "source": [
    "**Set up random seed**"
   ]
  },
  {
   "cell_type": "code",
   "execution_count": null,
   "metadata": {},
   "outputs": [],
   "source": [
    "radom_seed = 0\n",
    "random.seed(radom_seed)\n",
    "numpy_seed = 0\n",
    "np.random.seed(numpy_seed)\n",
    "tensorflow_seed = 0\n",
    "set_seed(tensorflow_seed)"
   ]
  },
  {
   "cell_type": "markdown",
   "metadata": {},
   "source": [
    "**Set up config variables**"
   ]
  },
  {
   "cell_type": "code",
   "execution_count": null,
   "metadata": {},
   "outputs": [],
   "source": [
    "IMG_HEIGHT, IMG_WIDTH, IMG_CHANNELS, N_CLASSES = 32,32,3,10\n",
    "BASE_DIR = os.path.abspath(os.path.dirname(\"__file__\"))\n",
    "INPUT_DIR = os.path.join(BASE_DIR, \"cifar10\")\n",
    "SAVE_DIRECTORY = os.path.join(BASE_DIR, \"cifar10\",\"numpy_data\")\n",
    "MODEL_DIR = os.path.join(BASE_DIR, \"model_files\")\n",
    "MODEL_PATH = os.path.join(MODEL_DIR, \"model_resnet_.h5\")"
   ]
  },
  {
   "cell_type": "markdown",
   "metadata": {},
   "source": [
    "**Create a dir for keras model file if does not exist**"
   ]
  },
  {
   "cell_type": "code",
   "execution_count": null,
   "metadata": {},
   "outputs": [],
   "source": [
    "if not os.path.exists(MODEL_DIR):\n",
    "    os.mkdir(MODEL_DIR)"
   ]
  },
  {
   "cell_type": "markdown",
   "metadata": {},
   "source": [
    "## 1. Visualize Image Data"
   ]
  },
  {
   "cell_type": "code",
   "execution_count": null,
   "metadata": {},
   "outputs": [],
   "source": [
    "classes_to_labels = dict(zip(list(os.walk(os.path.join(INPUT_DIR, \"train\")))[0][1], [i for i in range(10)]))\n",
    "labels_to_classes = dict(zip([i for i in range(10)], list(os.walk(os.path.join(INPUT_DIR, \"train\")))[0][1]))"
   ]
  },
  {
   "cell_type": "code",
   "execution_count": null,
   "metadata": {},
   "outputs": [],
   "source": [
    "X_train = np.load(os.path.join(SAVE_DIRECTORY, \"X_train.npy\"))\n",
    "X_valid = np.load(os.path.join(SAVE_DIRECTORY, \"X_valid.npy\"))\n",
    "Y_train = np.load(os.path.join(SAVE_DIRECTORY, \"Y_train.npy\"))\n",
    "Y_valid = np.load(os.path.join(SAVE_DIRECTORY, \"Y_valid.npy\"))"
   ]
  },
  {
   "cell_type": "code",
   "execution_count": null,
   "metadata": {},
   "outputs": [],
   "source": [
    "matplotlib.rcParams['figure.figsize'] = (30.0, 40.0)\n",
    "for i in range(375):\n",
    "    plt.subplot(25,15,i+1)\n",
    "    plt.title(labels_to_classes[Y_valid[i]])\n",
    "    plt.imshow(X_valid[i])\n",
    "    plt.axis('off')\n",
    "plt.show()"
   ]
  },
  {
   "cell_type": "markdown",
   "metadata": {},
   "source": [
    "## 2. Create Mobilenet Based Model"
   ]
  },
  {
   "cell_type": "markdown",
   "metadata": {},
   "source": [
    "**Functions to create keras model**"
   ]
  },
  {
   "cell_type": "code",
   "execution_count": null,
   "metadata": {},
   "outputs": [],
   "source": [
    "clear_session()\n",
    "mobilenet_v2 = MobileNetV2(include_top = False,input_shape = (160,160,3), pooling = 'avg')"
   ]
  },
  {
   "cell_type": "code",
   "execution_count": null,
   "metadata": {},
   "outputs": [],
   "source": [
    "learning_rate = (1e-3)*0.4\n",
    "model = \\\n",
    "Sequential((Input(shape=(32,32,3)),\n",
    "            Resizing(height = 160, width=160),\n",
    "            mobilenet_v2,\n",
    "            Dense(128, activation='elu'),\n",
    "            Dense(10, activation='softmax')))\n",
    "for layer in model.layers:\n",
    "    layer.trainable = True\n",
    "model.compile(optimizer=Adam(learning_rate=learning_rate),\n",
    "                  loss=SparseCategoricalCrossentropy(),\n",
    "                  metrics=['accuracy'])\n",
    "model.summary()"
   ]
  },
  {
   "cell_type": "markdown",
   "metadata": {},
   "source": [
    "**Create a resnet model**"
   ]
  },
  {
   "cell_type": "markdown",
   "metadata": {},
   "source": [
    "## 3. Train Model"
   ]
  },
  {
   "cell_type": "code",
   "execution_count": null,
   "metadata": {},
   "outputs": [],
   "source": [
    "def train_model(model, epochs, batch_size, checkpoint_cb, \n",
    "                X_train, Y_train, X_valid, Y_valid):\n",
    "    history = model.fit(X_train, Y_train, epochs=epochs, batch_size = batch_size,\n",
    "                        validation_data = (X_valid, Y_valid), \n",
    "                        callbacks=[checkpoint_cb])\n",
    "    return model, history "
   ]
  },
  {
   "cell_type": "code",
   "execution_count": null,
   "metadata": {},
   "outputs": [],
   "source": [
    "epochs = 200\n",
    "batch_size = 32\n",
    "checkpoint_cb = ModelCheckpoint(MODEL_PATH, monitor = 'val_accuracy', \n",
    "                                save_freq = \"epoch\", save_best_only=True, \n",
    "                                mode = \"max\")\n",
    "model, history = train_model(model, epochs, batch_size, checkpoint_cb, \n",
    "                             X_train, Y_train, X_valid, Y_valid)"
   ]
  },
  {
   "cell_type": "markdown",
   "metadata": {},
   "source": [
    "## 4. Access performance of model"
   ]
  },
  {
   "cell_type": "markdown",
   "metadata": {},
   "source": [
    "**Load test data**"
   ]
  },
  {
   "cell_type": "code",
   "execution_count": null,
   "metadata": {},
   "outputs": [],
   "source": [
    "X_train, Y_train = None, None\n",
    "X_test = np.load(os.path.join(SAVE_DIRECTORY, \"X_test.npy\"))\n",
    "Y_test = np.load(os.path.join(SAVE_DIRECTORY, \"Y_test.npy\"))"
   ]
  },
  {
   "cell_type": "code",
   "execution_count": null,
   "metadata": {},
   "outputs": [],
   "source": [
    "history_dict = history.history\n",
    "loss = history_dict['loss']\n",
    "val_loss = history_dict['val_loss']\n",
    "acc = history_dict['accuracy']\n",
    "val_acc = history_dict['val_accuracy']"
   ]
  },
  {
   "cell_type": "markdown",
   "metadata": {},
   "source": [
    "**Visualize loss vs epoch graph**"
   ]
  },
  {
   "cell_type": "code",
   "execution_count": null,
   "metadata": {},
   "outputs": [],
   "source": [
    "plt.figure(figsize=(16, 8), dpi= 80, facecolor='w', edgecolor='k')\n",
    "epochs = range(1, len(loss) + 1)\n",
    "plt.plot(epochs, loss,  label='Training Loss', linewidth = 10.0)\n",
    "plt.plot(epochs, val_loss,  label='Validation Loss', linewidth = 3)\n",
    "plt.title('Loss vs Epochs', fontsize = 25)\n",
    "plt.xlabel('Epochs', fontsize = 15)\n",
    "plt.ylabel('Loss', fontsize = 15)\n",
    "plt.legend()\n",
    "plt.grid(True)\n",
    "plt.show()"
   ]
  },
  {
   "cell_type": "markdown",
   "metadata": {},
   "source": [
    "**Visualize accuracy vs epoch graph**"
   ]
  },
  {
   "cell_type": "code",
   "execution_count": null,
   "metadata": {},
   "outputs": [],
   "source": [
    "plt.figure(figsize=(16, 8), dpi= 80, facecolor='w', edgecolor='k')\n",
    "epochs = range(1, len(acc) + 1)\n",
    "plt.plot(epochs, acc,  label='Training Accuracy', linewidth = 10.0)\n",
    "plt.plot(epochs, val_acc,  label='Validation Accuracy', linewidth = 3)\n",
    "plt.title('Accuracy vs Epochs', fontsize = 25)\n",
    "plt.xlabel('Epochs', fontsize = 15)\n",
    "plt.ylabel('Accuracy', fontsize = 15)\n",
    "plt.legend()\n",
    "plt.grid(True)\n",
    "plt.show()"
   ]
  },
  {
   "cell_type": "markdown",
   "metadata": {},
   "source": [
    "**Calculate valid and test accuracy**"
   ]
  },
  {
   "cell_type": "code",
   "execution_count": null,
   "metadata": {},
   "outputs": [],
   "source": [
    "model = load_model(MODEL_PATH)\n",
    "valid_accuracy = round(accuracy_score(Y_valid, np.argmax(model.predict(X_valid), axis = -1)),2)\n",
    "test_accuracy = round(accuracy_score(Y_test, np.argmax(model.predict(X_test), axis = -1)),2)\n",
    "print(\"Valid accuracy:\",valid_accuracy)\n",
    "print(\"Test accuracy:\",test_accuracy)"
   ]
  }
 ],
 "metadata": {
  "kernelspec": {
   "display_name": "Python 3",
   "language": "python",
   "name": "python3"
  },
  "language_info": {
   "codemirror_mode": {
    "name": "ipython",
    "version": 3
   },
   "file_extension": ".py",
   "mimetype": "text/x-python",
   "name": "python",
   "nbconvert_exporter": "python",
   "pygments_lexer": "ipython3",
   "version": "3.8.3"
  }
 },
 "nbformat": 4,
 "nbformat_minor": 4
}
